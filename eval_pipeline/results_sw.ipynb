{
 "cells": [
  {
   "metadata": {
    "ExecuteTime": {
     "end_time": "2025-05-11T16:43:15.098516Z",
     "start_time": "2025-05-11T16:43:13.935171Z"
    }
   },
   "cell_type": "code",
   "source": [
    "import pandas as pd\n",
    "\n",
    "# Model and file mappings\n",
    "model_names = ['Gemma-2-9B', 'Llama-3.1-8B', 'Phi-4-14B']\n",
    "model_file_mapping = {\n",
    "    'Gemma-2-9B': 'gemma2-9b',\n",
    "    'Llama-3.1-8B': 'llama31-8b',\n",
    "    'Phi-4-14B': 'phi-4-14b'\n",
    "}\n",
    "\n",
    "# Sensitive-word benchmarks\n",
    "sw_benchmarks = {\n",
    "    'swp': 'SensWord-Prefix',\n",
    "    'sws': 'SensWord-Suffix',\n",
    "    'swh': 'SensWord-Harmful',\n",
    "    'swb': 'SensWord-Benign'\n",
    "}\n",
    "\n",
    "# Defense types to evaluate\n",
    "defense_conditions = {\n",
    "    'No Defense': 'no',\n",
    "    'In-Context Defense': 'icd',\n",
    "    'Self-Reminder Defense': 'srd'\n",
    "}\n",
    "\n",
    "# Function to calculate refusal rate\n",
    "def calculate_refusal(df):\n",
    "    return df['refusal_score'].mean() * 100\n",
    "\n",
    "# Prepare table container\n",
    "refusal_tables = {}\n",
    "for defense_name, prefix in defense_conditions.items():\n",
    "    # Create a DataFrame with benchmarks as columns\n",
    "    refusal_tables[defense_name] = pd.DataFrame(\n",
    "        index=model_names,\n",
    "        columns=list(sw_benchmarks.values())\n",
    "    )\n",
    "    for model in model_names:\n",
    "        suffix = model_file_mapping[model]\n",
    "        for code, full_name in sw_benchmarks.items():\n",
    "            path = f\"./evaluations/{code}-{prefix}-{suffix}-eval.csv\"\n",
    "            try:\n",
    "                df = pd.read_csv(path)\n",
    "                refusal_tables[defense_name].loc[model, full_name] = calculate_refusal(df)\n",
    "            except FileNotFoundError:\n",
    "                print(f\"Missing file: {path}\")\n",
    "                refusal_tables[defense_name].loc[model, full_name] = None\n",
    "\n",
    "# Formatting helper\n",
    "def format_refusal_table(df, caption):\n",
    "    return df.style.format(\n",
    "        {col: \"{:.1f}%\" for col in df.columns},\n",
    "        na_rep=\"N/A\"\n",
    "    ).set_caption(caption).set_table_styles([\n",
    "        {'selector': 'caption', 'props': [('font-size', '14px'), ('font-weight', 'bold')]}]\n",
    "    )\n",
    "\n",
    "# Display results\n",
    "for defense_name, table in refusal_tables.items():\n",
    "    print(f\"\\nRefusal Rate Table ({defense_name}):\")\n",
    "    display(format_refusal_table(table, f\"Refusal Rate - {defense_name}\"))"
   ],
   "id": "f4d045ad9ded235c",
   "outputs": [
    {
     "name": "stdout",
     "output_type": "stream",
     "text": [
      "\n",
      "Refusal Rate Table (No Defense):\n"
     ]
    },
    {
     "data": {
      "text/plain": [
       "<pandas.io.formats.style.Styler at 0x74af82336fe0>"
      ],
      "text/html": [
       "<style type=\"text/css\">\n",
       "#T_21733 caption {\n",
       "  font-size: 14px;\n",
       "  font-weight: bold;\n",
       "}\n",
       "</style>\n",
       "<table id=\"T_21733\">\n",
       "  <caption>Refusal Rate - No Defense</caption>\n",
       "  <thead>\n",
       "    <tr>\n",
       "      <th class=\"blank level0\" >&nbsp;</th>\n",
       "      <th id=\"T_21733_level0_col0\" class=\"col_heading level0 col0\" >SensWord-Prefix</th>\n",
       "      <th id=\"T_21733_level0_col1\" class=\"col_heading level0 col1\" >SensWord-Suffix</th>\n",
       "      <th id=\"T_21733_level0_col2\" class=\"col_heading level0 col2\" >SensWord-Harmful</th>\n",
       "      <th id=\"T_21733_level0_col3\" class=\"col_heading level0 col3\" >SensWord-Benign</th>\n",
       "    </tr>\n",
       "  </thead>\n",
       "  <tbody>\n",
       "    <tr>\n",
       "      <th id=\"T_21733_level0_row0\" class=\"row_heading level0 row0\" >Gemma-2-9B</th>\n",
       "      <td id=\"T_21733_row0_col0\" class=\"data row0 col0\" >4.0%</td>\n",
       "      <td id=\"T_21733_row0_col1\" class=\"data row0 col1\" >1.6%</td>\n",
       "      <td id=\"T_21733_row0_col2\" class=\"data row0 col2\" >99.8%</td>\n",
       "      <td id=\"T_21733_row0_col3\" class=\"data row0 col3\" >3.6%</td>\n",
       "    </tr>\n",
       "    <tr>\n",
       "      <th id=\"T_21733_level0_row1\" class=\"row_heading level0 row1\" >Llama-3.1-8B</th>\n",
       "      <td id=\"T_21733_row1_col0\" class=\"data row1 col0\" >2.8%</td>\n",
       "      <td id=\"T_21733_row1_col1\" class=\"data row1 col1\" >1.2%</td>\n",
       "      <td id=\"T_21733_row1_col2\" class=\"data row1 col2\" >99.2%</td>\n",
       "      <td id=\"T_21733_row1_col3\" class=\"data row1 col3\" >1.7%</td>\n",
       "    </tr>\n",
       "    <tr>\n",
       "      <th id=\"T_21733_level0_row2\" class=\"row_heading level0 row2\" >Phi-4-14B</th>\n",
       "      <td id=\"T_21733_row2_col0\" class=\"data row2 col0\" >0.5%</td>\n",
       "      <td id=\"T_21733_row2_col1\" class=\"data row2 col1\" >0.5%</td>\n",
       "      <td id=\"T_21733_row2_col2\" class=\"data row2 col2\" >92.1%</td>\n",
       "      <td id=\"T_21733_row2_col3\" class=\"data row2 col3\" >0.5%</td>\n",
       "    </tr>\n",
       "  </tbody>\n",
       "</table>\n"
      ]
     },
     "metadata": {},
     "output_type": "display_data"
    },
    {
     "name": "stdout",
     "output_type": "stream",
     "text": [
      "\n",
      "Refusal Rate Table (In-Context Defense):\n"
     ]
    },
    {
     "data": {
      "text/plain": [
       "<pandas.io.formats.style.Styler at 0x74af82337ca0>"
      ],
      "text/html": [
       "<style type=\"text/css\">\n",
       "#T_d8297 caption {\n",
       "  font-size: 14px;\n",
       "  font-weight: bold;\n",
       "}\n",
       "</style>\n",
       "<table id=\"T_d8297\">\n",
       "  <caption>Refusal Rate - In-Context Defense</caption>\n",
       "  <thead>\n",
       "    <tr>\n",
       "      <th class=\"blank level0\" >&nbsp;</th>\n",
       "      <th id=\"T_d8297_level0_col0\" class=\"col_heading level0 col0\" >SensWord-Prefix</th>\n",
       "      <th id=\"T_d8297_level0_col1\" class=\"col_heading level0 col1\" >SensWord-Suffix</th>\n",
       "      <th id=\"T_d8297_level0_col2\" class=\"col_heading level0 col2\" >SensWord-Harmful</th>\n",
       "      <th id=\"T_d8297_level0_col3\" class=\"col_heading level0 col3\" >SensWord-Benign</th>\n",
       "    </tr>\n",
       "  </thead>\n",
       "  <tbody>\n",
       "    <tr>\n",
       "      <th id=\"T_d8297_level0_row0\" class=\"row_heading level0 row0\" >Gemma-2-9B</th>\n",
       "      <td id=\"T_d8297_row0_col0\" class=\"data row0 col0\" >4.6%</td>\n",
       "      <td id=\"T_d8297_row0_col1\" class=\"data row0 col1\" >1.8%</td>\n",
       "      <td id=\"T_d8297_row0_col2\" class=\"data row0 col2\" >99.0%</td>\n",
       "      <td id=\"T_d8297_row0_col3\" class=\"data row0 col3\" >3.8%</td>\n",
       "    </tr>\n",
       "    <tr>\n",
       "      <th id=\"T_d8297_level0_row1\" class=\"row_heading level0 row1\" >Llama-3.1-8B</th>\n",
       "      <td id=\"T_d8297_row1_col0\" class=\"data row1 col0\" >2.9%</td>\n",
       "      <td id=\"T_d8297_row1_col1\" class=\"data row1 col1\" >1.3%</td>\n",
       "      <td id=\"T_d8297_row1_col2\" class=\"data row1 col2\" >100.0%</td>\n",
       "      <td id=\"T_d8297_row1_col3\" class=\"data row1 col3\" >1.7%</td>\n",
       "    </tr>\n",
       "    <tr>\n",
       "      <th id=\"T_d8297_level0_row2\" class=\"row_heading level0 row2\" >Phi-4-14B</th>\n",
       "      <td id=\"T_d8297_row2_col0\" class=\"data row2 col0\" >0.5%</td>\n",
       "      <td id=\"T_d8297_row2_col1\" class=\"data row2 col1\" >0.6%</td>\n",
       "      <td id=\"T_d8297_row2_col2\" class=\"data row2 col2\" >92.2%</td>\n",
       "      <td id=\"T_d8297_row2_col3\" class=\"data row2 col3\" >0.3%</td>\n",
       "    </tr>\n",
       "  </tbody>\n",
       "</table>\n"
      ]
     },
     "metadata": {},
     "output_type": "display_data"
    },
    {
     "name": "stdout",
     "output_type": "stream",
     "text": [
      "\n",
      "Refusal Rate Table (Self-Reminder Defense):\n"
     ]
    },
    {
     "data": {
      "text/plain": [
       "<pandas.io.formats.style.Styler at 0x74af823eeda0>"
      ],
      "text/html": [
       "<style type=\"text/css\">\n",
       "#T_967c9 caption {\n",
       "  font-size: 14px;\n",
       "  font-weight: bold;\n",
       "}\n",
       "</style>\n",
       "<table id=\"T_967c9\">\n",
       "  <caption>Refusal Rate - Self-Reminder Defense</caption>\n",
       "  <thead>\n",
       "    <tr>\n",
       "      <th class=\"blank level0\" >&nbsp;</th>\n",
       "      <th id=\"T_967c9_level0_col0\" class=\"col_heading level0 col0\" >SensWord-Prefix</th>\n",
       "      <th id=\"T_967c9_level0_col1\" class=\"col_heading level0 col1\" >SensWord-Suffix</th>\n",
       "      <th id=\"T_967c9_level0_col2\" class=\"col_heading level0 col2\" >SensWord-Harmful</th>\n",
       "      <th id=\"T_967c9_level0_col3\" class=\"col_heading level0 col3\" >SensWord-Benign</th>\n",
       "    </tr>\n",
       "  </thead>\n",
       "  <tbody>\n",
       "    <tr>\n",
       "      <th id=\"T_967c9_level0_row0\" class=\"row_heading level0 row0\" >Gemma-2-9B</th>\n",
       "      <td id=\"T_967c9_row0_col0\" class=\"data row0 col0\" >4.4%</td>\n",
       "      <td id=\"T_967c9_row0_col1\" class=\"data row0 col1\" >1.8%</td>\n",
       "      <td id=\"T_967c9_row0_col2\" class=\"data row0 col2\" >99.9%</td>\n",
       "      <td id=\"T_967c9_row0_col3\" class=\"data row0 col3\" >3.8%</td>\n",
       "    </tr>\n",
       "    <tr>\n",
       "      <th id=\"T_967c9_level0_row1\" class=\"row_heading level0 row1\" >Llama-3.1-8B</th>\n",
       "      <td id=\"T_967c9_row1_col0\" class=\"data row1 col0\" >2.9%</td>\n",
       "      <td id=\"T_967c9_row1_col1\" class=\"data row1 col1\" >1.3%</td>\n",
       "      <td id=\"T_967c9_row1_col2\" class=\"data row1 col2\" >100.0%</td>\n",
       "      <td id=\"T_967c9_row1_col3\" class=\"data row1 col3\" >1.7%</td>\n",
       "    </tr>\n",
       "    <tr>\n",
       "      <th id=\"T_967c9_level0_row2\" class=\"row_heading level0 row2\" >Phi-4-14B</th>\n",
       "      <td id=\"T_967c9_row2_col0\" class=\"data row2 col0\" >0.4%</td>\n",
       "      <td id=\"T_967c9_row2_col1\" class=\"data row2 col1\" >0.4%</td>\n",
       "      <td id=\"T_967c9_row2_col2\" class=\"data row2 col2\" >92.0%</td>\n",
       "      <td id=\"T_967c9_row2_col3\" class=\"data row2 col3\" >0.4%</td>\n",
       "    </tr>\n",
       "  </tbody>\n",
       "</table>\n"
      ]
     },
     "metadata": {},
     "output_type": "display_data"
    }
   ],
   "execution_count": 21
  }
 ],
 "metadata": {
  "kernelspec": {
   "display_name": "Python 3",
   "language": "python",
   "name": "python3"
  },
  "language_info": {
   "codemirror_mode": {
    "name": "ipython",
    "version": 2
   },
   "file_extension": ".py",
   "mimetype": "text/x-python",
   "name": "python",
   "nbconvert_exporter": "python",
   "pygments_lexer": "ipython2",
   "version": "2.7.6"
  }
 },
 "nbformat": 4,
 "nbformat_minor": 5
}
